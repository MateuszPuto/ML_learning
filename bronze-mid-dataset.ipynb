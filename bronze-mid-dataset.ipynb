{
 "cells": [
  {
   "cell_type": "code",
   "execution_count": 43,
   "id": "ae7dc977",
   "metadata": {},
   "outputs": [],
   "source": [
    "#mid-lane season 12.3 bronze dataset\n",
    "#includes 10 champions with the highest pick rate\n",
    "\n",
    "champions = [\"yasuo\", \"yone\", \"ahri\", \"akali\", \"zed\", \"veigar\", \"vex\", \"lux\", \"katarina\", \"sylas\"]\n",
    "others  = [\"irelia\", \"fizz\", \"victor\", \"leblanc\", \"corki\", \"malzahar\", \"talon\", \"akshan\", \"ekko\", \"xerath\"]\n",
    "\n",
    "pick_rate =  [12.6, 11.0, 10.5, 9.4, 8.8, 8.0, 7.1, 7.1, 6.5,\n",
    "             5.3, 4.9, 4.5, 4.5, 4.0, 3.6, 3.3, 3.1, 3.0, 2.9]\n",
    "win_rate = [51.55, 50.8, 51.27, 49.36, 48.55, 53.03, 48.94, 49.88, 51.49, 47.89,\n",
    "            50.87, 52.06, 51.68, 46.49, 47.29, 52.67, 47.4, 49.98, 50.39, 51.44]\n",
    "\n",
    "lose_against = [[50.0, 49.1, 47.62, 48.72, 45.72, 52.82, 48.31, 47.32, 47.3, 46.66],\n",
    "               [50.9, 50.0, 50.81, 49.87, 49.55, 52.93, 50.17, 52.27, 48.55, 46.54],\n",
    "               [52.38, 49.19, 50.0, 46.42, 47.96, 53.15, 47.88, 50.93, 48.96, 45.87],\n",
    "               [51.25, 50.13, 53.58, 50.0, 48.6, 57.1, 51.27, 51.28, 50.04, 48.01],\n",
    "               [54.28, 50.45, 52.04, 51.4, 50.0, 50.03, 49.71, 52.92, 51.05, 50.39],\n",
    "               [47.18, 47.07, 46.85, 42.9, 49.97, 50.0, 43.3, 51.43, 50.94, 44.31],\n",
    "               [51.69, 49.83, 52.12, 48.73, 50.29, 56.7, 50.0, 54.37, 50.95, 47.97],\n",
    "               [52.68, 47.73, 49.07, 48.72, 47.08, 48.57, 45.63, 50.0, 50.71, 46.2],\n",
    "               [52.7, 51.45, 51.02, 49.96, 48.95, 49.06, 49.05, 49.29, 50.0, 48.06],\n",
    "               [53.34, 53.46, 54.13, 51.99, 49.61, 55.69, 52.03, 53.8, 51.94, 50.0]]"
   ]
  },
  {
   "cell_type": "code",
   "execution_count": 50,
   "id": "5ab2e603",
   "metadata": {},
   "outputs": [
    {
     "name": "stdout",
     "output_type": "stream",
     "text": [
      "Pick rate of analyzed champions:  120.1 %\n",
      "Pick rate of baseline champions:  86.3 %\n",
      "\n",
      "Average win rate in dataset: 50.15%\n",
      "Average win rate in baseline: 50.28%\n",
      "\n",
      "Five highest win rate champions:\n",
      " [('veigar', 53.03), ('yasuo', 51.55), ('katarina', 51.49), ('ahri', 51.27), ('yone', 50.8)]\n",
      "\n",
      "Best champions against baseline:\n",
      "1. veigar : 52.66%\n",
      "2. yasuo : 51.49%\n",
      "3. lux : 51.12%\n",
      "4. ahri : 50.49%\n",
      "5. katarina : 49.75%\n",
      "6. yone : 49.68%\n",
      "7. akali : 48.76%\n",
      "8. vex : 48.7%\n",
      "9. zed : 48.59%\n",
      "10. sylas : 47.24%\n"
     ]
    }
   ],
   "source": [
    "overall_pickrate = round(sum(pick_rate), 2)\n",
    "baseline_pickrate = round(sum(pick_rate[:10]), 2)\n",
    "print(\"Pick rate of analyzed champions: \", overall_pickrate, \"%\")\n",
    "print(\"Pick rate of baseline champions: \", baseline_pickrate, \"%\\n\")\n",
    "\n",
    "print(\"Average win rate in dataset: \" + str(round(sum(win_rate)/len(win_rate), 2)) + \"%\")\n",
    "print(\"Average win rate in baseline: \" + str(round(sum(win_rate[:10])/len(win_rate[:10]), 2)) + \"%\")\n",
    "\n",
    "five_best = [(x, y) for y, x in sorted(zip(win_rate, champions), reverse=True)][:5]\n",
    "print(\"\\nFive highest win rate champions:\\n\", five_best)\n",
    "\n",
    "\n",
    "lose_stats = []\n",
    "for j, champion in enumerate(champions):\n",
    "    lose_stats.append(100/baseline_pickrate * sum([lose_against[j][i]/100*pick_rate[i] for i in range(len(champions))]))\n",
    "    \n",
    "champs_win = [[y, 100.0-x] for x, y in sorted(zip(lose_stats, champions))]\n",
    "\n",
    "print(\"\\nBest champions against baseline:\")\n",
    "for i, champ in enumerate(champs_win):\n",
    "    print(str(i+1) + \". \" + champ[0] + \" : \" + str(round(champ[1], 2)) + \"%\")"
   ]
  },
  {
   "cell_type": "code",
   "execution_count": 55,
   "id": "e14fcbfd",
   "metadata": {},
   "outputs": [],
   "source": [
    "def vs(champion, enemyChampion):\n",
    "    return print(str(100 - lose_against[champions.index(champion)][champions.index(enemyChampion)]) + \"%\")"
   ]
  },
  {
   "cell_type": "code",
   "execution_count": 57,
   "id": "f3dcb259",
   "metadata": {},
   "outputs": [
    {
     "name": "stdout",
     "output_type": "stream",
     "text": [
      "52.82%\n",
      "47.62%\n"
     ]
    }
   ],
   "source": [
    "vs(\"veigar\", \"yasuo\")\n",
    "vs(\"ahri\", \"yasuo\")"
   ]
  },
  {
   "cell_type": "code",
   "execution_count": null,
   "id": "7551e689",
   "metadata": {},
   "outputs": [],
   "source": []
  }
 ],
 "metadata": {
  "kernelspec": {
   "display_name": "Python 3 (ipykernel)",
   "language": "python",
   "name": "python3"
  },
  "language_info": {
   "codemirror_mode": {
    "name": "ipython",
    "version": 3
   },
   "file_extension": ".py",
   "mimetype": "text/x-python",
   "name": "python",
   "nbconvert_exporter": "python",
   "pygments_lexer": "ipython3",
   "version": "3.8.10"
  }
 },
 "nbformat": 4,
 "nbformat_minor": 5
}
