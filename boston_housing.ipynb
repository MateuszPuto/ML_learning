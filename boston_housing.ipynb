{
 "cells": [
  {
   "cell_type": "code",
   "execution_count": 7,
   "id": "e3e94d74",
   "metadata": {},
   "outputs": [],
   "source": [
    "from keras.datasets import boston_housing\n",
    "import numpy as np\n",
    "from keras import models\n",
    "from keras import layers\n",
    "import keras"
   ]
  },
  {
   "cell_type": "code",
   "execution_count": 8,
   "id": "3aebd9e9",
   "metadata": {},
   "outputs": [
    {
     "name": "stdout",
     "output_type": "stream",
     "text": [
      "Size of train and test sets:  404   102\n",
      "Example input:  [  1.23247   0.        8.14      0.        0.538     6.142    91.7\n",
      "   3.9769    4.      307.       21.      396.9      18.72   ] and size:  13\n",
      "10 example labels:  [15.2 42.3 50.  21.1 17.7 18.5 11.3 15.6 15.6 14.4]\n"
     ]
    }
   ],
   "source": [
    "(train_data, train_labels), (test_data, test_labels) = boston_housing.load_data()\n",
    "\n",
    "print(\"Size of train and test sets: \", len(train_data), \" \", len(test_data))\n",
    "print(\"Example input: \", train_data[0], \"and size: \", len(train_data[0]))\n",
    "print(\"10 example labels: \", train_labels[:10])"
   ]
  },
  {
   "cell_type": "code",
   "execution_count": 9,
   "id": "a9f6a5c2",
   "metadata": {},
   "outputs": [
    {
     "name": "stdout",
     "output_type": "stream",
     "text": [
      "Sanity check:\n",
      " [-1.01541438e-16  1.09923072e-17  1.80933376e-15 -7.80453809e-17\n",
      " -5.25047552e-15  6.43187374e-15  2.98441140e-16  4.94653823e-16\n",
      "  1.12671149e-17 -1.05526149e-16  2.36614908e-14  5.96710525e-15\n",
      "  6.13920356e-16] \n",
      " [1. 1. 1. 1. 1. 1. 1. 1. 1. 1. 1. 1. 1.]\n"
     ]
    }
   ],
   "source": [
    "train_data -= np.mean(train_data, axis=0)\n",
    "train_data /= np.std(train_data, axis=0)\n",
    "\n",
    "test_data -= np.mean(test_data, axis=0)\n",
    "test_data /= np.std(test_data, axis=0)\n",
    "\n",
    "print(\"Sanity check:\\n\", np.mean(train_data, axis=0), \"\\n\", np.std(train_data, axis=0))"
   ]
  },
  {
   "cell_type": "code",
   "execution_count": 10,
   "id": "1d296276",
   "metadata": {},
   "outputs": [
    {
     "name": "stdout",
     "output_type": "stream",
     "text": [
      "Model: \"sequential_1\"\n",
      "_________________________________________________________________\n",
      " Layer (type)                Output Shape              Param #   \n",
      "=================================================================\n",
      " dense_3 (Dense)             (None, 64)                896       \n",
      "                                                                 \n",
      " dense_4 (Dense)             (None, 64)                4160      \n",
      "                                                                 \n",
      " dense_5 (Dense)             (None, 1)                 65        \n",
      "                                                                 \n",
      "=================================================================\n",
      "Total params: 5,121\n",
      "Trainable params: 5,121\n",
      "Non-trainable params: 0\n",
      "_________________________________________________________________\n"
     ]
    }
   ],
   "source": [
    "model = models.Sequential()\n",
    "model.add(keras.Input(shape=(13,)))\n",
    "model.add(layers.Dense(64, activation='relu'))\n",
    "model.add(layers.Dense(64, activation='relu'))\n",
    "model.add(layers.Dense(1))\n",
    "\n",
    "model.compile(loss='mse', optimizer='rmsprop', metrics=['mae'])\n",
    "model.summary()"
   ]
  },
  {
   "cell_type": "code",
   "execution_count": 11,
   "id": "08731f52",
   "metadata": {},
   "outputs": [
    {
     "name": "stdout",
     "output_type": "stream",
     "text": [
      "Epoch 1/80\n",
      "26/26 [==============================] - 1s 2ms/step - loss: 476.6536 - mae: 19.9587\n",
      "Epoch 2/80\n",
      "26/26 [==============================] - 0s 2ms/step - loss: 291.7186 - mae: 14.8754\n",
      "Epoch 3/80\n",
      "26/26 [==============================] - 0s 3ms/step - loss: 129.0206 - mae: 9.2284\n",
      "Epoch 4/80\n",
      "26/26 [==============================] - 0s 3ms/step - loss: 55.1280 - mae: 5.6287\n",
      "Epoch 5/80\n",
      "26/26 [==============================] - 0s 3ms/step - loss: 35.6715 - mae: 4.3421\n",
      "Epoch 6/80\n",
      "26/26 [==============================] - 0s 3ms/step - loss: 27.7758 - mae: 3.7923\n",
      "Epoch 7/80\n",
      "26/26 [==============================] - 0s 2ms/step - loss: 23.5212 - mae: 3.4261\n",
      "Epoch 8/80\n",
      "26/26 [==============================] - 0s 2ms/step - loss: 20.5297 - mae: 3.2088\n",
      "Epoch 9/80\n",
      "26/26 [==============================] - 0s 3ms/step - loss: 18.9283 - mae: 3.0130\n",
      "Epoch 10/80\n",
      "26/26 [==============================] - 0s 3ms/step - loss: 17.6329 - mae: 2.8763\n",
      "Epoch 11/80\n",
      "26/26 [==============================] - 0s 2ms/step - loss: 16.2140 - mae: 2.7700\n",
      "Epoch 12/80\n",
      "26/26 [==============================] - 0s 3ms/step - loss: 15.0513 - mae: 2.6687\n",
      "Epoch 13/80\n",
      "26/26 [==============================] - 0s 3ms/step - loss: 13.9615 - mae: 2.5402\n",
      "Epoch 14/80\n",
      "26/26 [==============================] - 0s 3ms/step - loss: 13.3722 - mae: 2.4789\n",
      "Epoch 15/80\n",
      "26/26 [==============================] - 0s 3ms/step - loss: 12.7403 - mae: 2.4349\n",
      "Epoch 16/80\n",
      "26/26 [==============================] - 0s 3ms/step - loss: 12.4296 - mae: 2.3880\n",
      "Epoch 17/80\n",
      "26/26 [==============================] - 0s 3ms/step - loss: 11.8671 - mae: 2.3021\n",
      "Epoch 18/80\n",
      "26/26 [==============================] - 0s 2ms/step - loss: 11.7581 - mae: 2.3903\n",
      "Epoch 19/80\n",
      "26/26 [==============================] - 0s 3ms/step - loss: 11.2929 - mae: 2.2765\n",
      "Epoch 20/80\n",
      "26/26 [==============================] - 0s 3ms/step - loss: 10.9040 - mae: 2.2574\n",
      "Epoch 21/80\n",
      "26/26 [==============================] - 0s 3ms/step - loss: 10.6173 - mae: 2.2504\n",
      "Epoch 22/80\n",
      "26/26 [==============================] - 0s 3ms/step - loss: 10.5647 - mae: 2.2358\n",
      "Epoch 23/80\n",
      "26/26 [==============================] - 0s 3ms/step - loss: 10.2152 - mae: 2.1950\n",
      "Epoch 24/80\n",
      "26/26 [==============================] - 0s 3ms/step - loss: 10.0653 - mae: 2.1957\n",
      "Epoch 25/80\n",
      "26/26 [==============================] - 0s 2ms/step - loss: 10.1946 - mae: 2.2040\n",
      "Epoch 26/80\n",
      "26/26 [==============================] - 0s 2ms/step - loss: 9.8111 - mae: 2.1703\n",
      "Epoch 27/80\n",
      "26/26 [==============================] - 0s 2ms/step - loss: 9.5215 - mae: 2.1228\n",
      "Epoch 28/80\n",
      "26/26 [==============================] - 0s 3ms/step - loss: 9.5242 - mae: 2.1468\n",
      "Epoch 29/80\n",
      "26/26 [==============================] - 0s 3ms/step - loss: 9.4067 - mae: 2.1471\n",
      "Epoch 30/80\n",
      "26/26 [==============================] - 0s 3ms/step - loss: 9.2042 - mae: 2.1171\n",
      "Epoch 31/80\n",
      "26/26 [==============================] - 0s 2ms/step - loss: 9.0535 - mae: 2.0608\n",
      "Epoch 32/80\n",
      "26/26 [==============================] - 0s 2ms/step - loss: 9.0811 - mae: 2.1096\n",
      "Epoch 33/80\n",
      "26/26 [==============================] - 0s 3ms/step - loss: 8.8024 - mae: 2.0549\n",
      "Epoch 34/80\n",
      "26/26 [==============================] - 0s 2ms/step - loss: 8.6032 - mae: 2.0322\n",
      "Epoch 35/80\n",
      "26/26 [==============================] - 0s 3ms/step - loss: 8.7969 - mae: 2.0720\n",
      "Epoch 36/80\n",
      "26/26 [==============================] - 0s 3ms/step - loss: 8.5306 - mae: 2.0257\n",
      "Epoch 37/80\n",
      "26/26 [==============================] - 0s 3ms/step - loss: 8.2260 - mae: 2.0298\n",
      "Epoch 38/80\n",
      "26/26 [==============================] - 0s 3ms/step - loss: 8.4388 - mae: 2.0158\n",
      "Epoch 39/80\n",
      "26/26 [==============================] - 0s 3ms/step - loss: 8.4674 - mae: 2.0044\n",
      "Epoch 40/80\n",
      "26/26 [==============================] - 0s 3ms/step - loss: 8.1997 - mae: 1.9667\n",
      "Epoch 41/80\n",
      "26/26 [==============================] - 0s 2ms/step - loss: 8.0498 - mae: 1.9706\n",
      "Epoch 42/80\n",
      "26/26 [==============================] - 0s 3ms/step - loss: 8.0146 - mae: 2.0009\n",
      "Epoch 43/80\n",
      "26/26 [==============================] - 0s 2ms/step - loss: 7.8780 - mae: 1.9182\n",
      "Epoch 44/80\n",
      "26/26 [==============================] - 0s 2ms/step - loss: 8.0735 - mae: 2.0109\n",
      "Epoch 45/80\n",
      "26/26 [==============================] - 0s 2ms/step - loss: 7.6516 - mae: 1.9381\n",
      "Epoch 46/80\n",
      "26/26 [==============================] - 0s 2ms/step - loss: 7.7497 - mae: 1.9207\n",
      "Epoch 47/80\n",
      "26/26 [==============================] - 0s 3ms/step - loss: 7.6638 - mae: 1.9097\n",
      "Epoch 48/80\n",
      "26/26 [==============================] - 0s 3ms/step - loss: 7.4484 - mae: 1.8984\n",
      "Epoch 49/80\n",
      "26/26 [==============================] - 0s 2ms/step - loss: 7.5591 - mae: 1.9140\n",
      "Epoch 50/80\n",
      "26/26 [==============================] - 0s 3ms/step - loss: 7.3522 - mae: 1.8909\n",
      "Epoch 51/80\n",
      "26/26 [==============================] - 0s 3ms/step - loss: 7.2117 - mae: 1.8671\n",
      "Epoch 52/80\n",
      "26/26 [==============================] - 0s 3ms/step - loss: 7.4135 - mae: 1.9114\n",
      "Epoch 53/80\n",
      "26/26 [==============================] - 0s 3ms/step - loss: 7.3704 - mae: 1.8947\n",
      "Epoch 54/80\n",
      "26/26 [==============================] - 0s 3ms/step - loss: 7.1668 - mae: 1.8590\n",
      "Epoch 55/80\n",
      "26/26 [==============================] - 0s 3ms/step - loss: 7.1821 - mae: 1.8410\n",
      "Epoch 56/80\n",
      "26/26 [==============================] - 0s 2ms/step - loss: 7.0727 - mae: 1.8609\n",
      "Epoch 57/80\n",
      "26/26 [==============================] - 0s 2ms/step - loss: 6.9292 - mae: 1.8268\n",
      "Epoch 58/80\n",
      "26/26 [==============================] - 0s 3ms/step - loss: 6.8762 - mae: 1.8328\n",
      "Epoch 59/80\n",
      "26/26 [==============================] - 0s 2ms/step - loss: 6.7064 - mae: 1.8245\n",
      "Epoch 60/80\n",
      "26/26 [==============================] - 0s 3ms/step - loss: 6.8836 - mae: 1.8055\n",
      "Epoch 61/80\n",
      "26/26 [==============================] - 0s 2ms/step - loss: 6.8490 - mae: 1.8087\n",
      "Epoch 62/80\n",
      "26/26 [==============================] - 0s 3ms/step - loss: 6.7669 - mae: 1.8225\n",
      "Epoch 63/80\n",
      "26/26 [==============================] - 0s 2ms/step - loss: 6.6643 - mae: 1.7802\n",
      "Epoch 64/80\n",
      "26/26 [==============================] - 0s 3ms/step - loss: 6.7077 - mae: 1.8348\n",
      "Epoch 65/80\n",
      "26/26 [==============================] - 0s 3ms/step - loss: 6.4645 - mae: 1.7999\n",
      "Epoch 66/80\n",
      "26/26 [==============================] - 0s 2ms/step - loss: 6.6009 - mae: 1.8073\n",
      "Epoch 67/80\n",
      "26/26 [==============================] - 0s 2ms/step - loss: 6.4418 - mae: 1.7826\n",
      "Epoch 68/80\n",
      "26/26 [==============================] - 0s 2ms/step - loss: 6.3334 - mae: 1.7754\n",
      "Epoch 69/80\n",
      "26/26 [==============================] - 0s 2ms/step - loss: 6.3417 - mae: 1.7472\n",
      "Epoch 70/80\n",
      "26/26 [==============================] - 0s 2ms/step - loss: 6.3359 - mae: 1.7540\n",
      "Epoch 71/80\n",
      "26/26 [==============================] - 0s 3ms/step - loss: 6.2501 - mae: 1.7395\n",
      "Epoch 72/80\n",
      "26/26 [==============================] - 0s 2ms/step - loss: 6.0433 - mae: 1.7016\n",
      "Epoch 73/80\n",
      "26/26 [==============================] - 0s 2ms/step - loss: 6.3801 - mae: 1.7377\n",
      "Epoch 74/80\n",
      "26/26 [==============================] - 0s 3ms/step - loss: 6.1586 - mae: 1.7544\n",
      "Epoch 75/80\n",
      "26/26 [==============================] - 0s 2ms/step - loss: 6.1623 - mae: 1.7548\n",
      "Epoch 76/80\n",
      "26/26 [==============================] - 0s 2ms/step - loss: 5.8368 - mae: 1.6997\n",
      "Epoch 77/80\n",
      "26/26 [==============================] - 0s 2ms/step - loss: 6.0513 - mae: 1.7334\n",
      "Epoch 78/80\n",
      "26/26 [==============================] - 0s 3ms/step - loss: 5.8519 - mae: 1.6721\n",
      "Epoch 79/80\n",
      "26/26 [==============================] - 0s 2ms/step - loss: 5.9426 - mae: 1.7463\n",
      "Epoch 80/80\n",
      "26/26 [==============================] - 0s 3ms/step - loss: 5.6530 - mae: 1.6658\n"
     ]
    },
    {
     "data": {
      "text/plain": [
       "<keras.callbacks.History at 0x7ff845669c70>"
      ]
     },
     "execution_count": 11,
     "metadata": {},
     "output_type": "execute_result"
    }
   ],
   "source": [
    "model.fit(train_data, train_labels, batch_size=16, epochs=80)"
   ]
  },
  {
   "cell_type": "code",
   "execution_count": 12,
   "id": "fa4abb71",
   "metadata": {},
   "outputs": [
    {
     "name": "stdout",
     "output_type": "stream",
     "text": [
      "4/4 [==============================] - 0s 3ms/step - loss: 16.2834 - mae: 2.5224\n"
     ]
    }
   ],
   "source": [
    "test_mse, test_mae = model.evaluate(test_data, test_labels)"
   ]
  },
  {
   "cell_type": "code",
   "execution_count": null,
   "id": "f539c274",
   "metadata": {},
   "outputs": [],
   "source": []
  }
 ],
 "metadata": {
  "kernelspec": {
   "display_name": "Python 3 (ipykernel)",
   "language": "python",
   "name": "python3"
  },
  "language_info": {
   "codemirror_mode": {
    "name": "ipython",
    "version": 3
   },
   "file_extension": ".py",
   "mimetype": "text/x-python",
   "name": "python",
   "nbconvert_exporter": "python",
   "pygments_lexer": "ipython3",
   "version": "3.8.10"
  }
 },
 "nbformat": 4,
 "nbformat_minor": 5
}
