{
 "cells": [
  {
   "cell_type": "code",
   "execution_count": 7,
   "id": "4a9a1d7a",
   "metadata": {},
   "outputs": [],
   "source": [
    "from keras.datasets import boston_housing\n",
    "import numpy as np\n",
    "from keras import models\n",
    "from keras import layers\n",
    "import keras"
   ]
  },
  {
   "cell_type": "code",
   "execution_count": 8,
   "id": "af085dde",
   "metadata": {},
   "outputs": [
    {
     "name": "stdout",
     "output_type": "stream",
     "text": [
      "Size of train and test sets:  404   102\n",
      "Example input:  [  1.23247   0.        8.14      0.        0.538     6.142    91.7\n",
      "   3.9769    4.      307.       21.      396.9      18.72   ] and size:  13\n",
      "10 example labels:  [15.2 42.3 50.  21.1 17.7 18.5 11.3 15.6 15.6 14.4]\n"
     ]
    }
   ],
   "source": [
    "(train_data, train_labels), (test_data, test_labels) = boston_housing.load_data()\n",
    "\n",
    "print(\"Size of train and test sets: \", len(train_data), \" \", len(test_data))\n",
    "print(\"Example input: \", train_data[0], \"and size: \", len(train_data[0]))\n",
    "print(\"10 example labels: \", train_labels[:10])"
   ]
  },
  {
   "cell_type": "code",
   "execution_count": 9,
   "id": "625dc3c7",
   "metadata": {},
   "outputs": [
    {
     "name": "stdout",
     "output_type": "stream",
     "text": [
      "Sanity check:\n",
      " [-1.01541438e-16  1.09923072e-17  1.80933376e-15 -7.80453809e-17\n",
      " -5.25047552e-15  6.43187374e-15  2.98441140e-16  4.94653823e-16\n",
      "  1.12671149e-17 -1.05526149e-16  2.36614908e-14  5.96710525e-15\n",
      "  6.13920356e-16] \n",
      " [1. 1. 1. 1. 1. 1. 1. 1. 1. 1. 1. 1. 1.]\n"
     ]
    }
   ],
   "source": [
    "train_data -= np.mean(train_data, axis=0)\n",
    "train_data /= np.std(train_data, axis=0)\n",
    "\n",
    "test_data -= np.mean(test_data, axis=0)\n",
    "test_data /= np.std(test_data, axis=0)\n",
    "\n",
    "print(\"Sanity check:\\n\", np.mean(train_data, axis=0), \"\\n\", np.std(train_data, axis=0))"
   ]
  },
  {
   "cell_type": "code",
   "execution_count": 10,
   "id": "8813654b",
   "metadata": {},
   "outputs": [
    {
     "name": "stdout",
     "output_type": "stream",
     "text": [
      "Model: \"sequential_1\"\n",
      "_________________________________________________________________\n",
      " Layer (type)                Output Shape              Param #   \n",
      "=================================================================\n",
      " dense_4 (Dense)             (None, 64)                896       \n",
      "                                                                 \n",
      " dense_5 (Dense)             (None, 64)                4160      \n",
      "                                                                 \n",
      " dense_6 (Dense)             (None, 64)                4160      \n",
      "                                                                 \n",
      " dense_7 (Dense)             (None, 1)                 65        \n",
      "                                                                 \n",
      "=================================================================\n",
      "Total params: 9,281\n",
      "Trainable params: 9,281\n",
      "Non-trainable params: 0\n",
      "_________________________________________________________________\n"
     ]
    }
   ],
   "source": [
    "model = models.Sequential()\n",
    "model.add(keras.Input(shape=(13,)))\n",
    "model.add(layers.Dense(64, activation='relu'))\n",
    "model.add(layers.Dense(64, activation='relu'))\n",
    "model.add(layers.Dense(64, activation='relu'))\n",
    "model.add(layers.Dense(1))\n",
    "\n",
    "model.compile(loss='mse', optimizer='rmsprop', metrics=['mae'])\n",
    "model.summary()"
   ]
  },
  {
   "cell_type": "code",
   "execution_count": 11,
   "id": "ca12e17e",
   "metadata": {},
   "outputs": [
    {
     "name": "stdout",
     "output_type": "stream",
     "text": [
      "Epoch 1/80\n",
      "26/26 [==============================] - 1s 3ms/step - loss: 450.9427 - mae: 18.9638\n",
      "Epoch 2/80\n",
      "26/26 [==============================] - 0s 3ms/step - loss: 141.0952 - mae: 9.3130\n",
      "Epoch 3/80\n",
      "26/26 [==============================] - 0s 3ms/step - loss: 51.0981 - mae: 5.4338\n",
      "Epoch 4/80\n",
      "26/26 [==============================] - 0s 3ms/step - loss: 32.9823 - mae: 4.0840\n",
      "Epoch 5/80\n",
      "26/26 [==============================] - 0s 3ms/step - loss: 25.3817 - mae: 3.4803\n",
      "Epoch 6/80\n",
      "26/26 [==============================] - 0s 3ms/step - loss: 20.8907 - mae: 3.1135\n",
      "Epoch 7/80\n",
      "26/26 [==============================] - 0s 3ms/step - loss: 18.3088 - mae: 2.9829\n",
      "Epoch 8/80\n",
      "26/26 [==============================] - 0s 3ms/step - loss: 16.5261 - mae: 2.8175\n",
      "Epoch 9/80\n",
      "26/26 [==============================] - 0s 3ms/step - loss: 14.9078 - mae: 2.7236\n",
      "Epoch 10/80\n",
      "26/26 [==============================] - 0s 3ms/step - loss: 13.3297 - mae: 2.4858\n",
      "Epoch 11/80\n",
      "26/26 [==============================] - 0s 2ms/step - loss: 12.1886 - mae: 2.5078\n",
      "Epoch 12/80\n",
      "26/26 [==============================] - 0s 2ms/step - loss: 11.8942 - mae: 2.4302\n",
      "Epoch 13/80\n",
      "26/26 [==============================] - 0s 3ms/step - loss: 11.3397 - mae: 2.4639\n",
      "Epoch 14/80\n",
      "26/26 [==============================] - 0s 3ms/step - loss: 10.8667 - mae: 2.3813\n",
      "Epoch 15/80\n",
      "26/26 [==============================] - 0s 2ms/step - loss: 10.2478 - mae: 2.2544\n",
      "Epoch 16/80\n",
      "26/26 [==============================] - 0s 3ms/step - loss: 10.4688 - mae: 2.3046\n",
      "Epoch 17/80\n",
      "26/26 [==============================] - 0s 3ms/step - loss: 9.8158 - mae: 2.1853\n",
      "Epoch 18/80\n",
      "26/26 [==============================] - 0s 3ms/step - loss: 9.6145 - mae: 2.2114\n",
      "Epoch 19/80\n",
      "26/26 [==============================] - 0s 3ms/step - loss: 8.7505 - mae: 2.0916\n",
      "Epoch 20/80\n",
      "26/26 [==============================] - 0s 2ms/step - loss: 8.8042 - mae: 2.1273\n",
      "Epoch 21/80\n",
      "26/26 [==============================] - 0s 3ms/step - loss: 8.9661 - mae: 2.1584\n",
      "Epoch 22/80\n",
      "26/26 [==============================] - 0s 3ms/step - loss: 8.6388 - mae: 2.0358\n",
      "Epoch 23/80\n",
      "26/26 [==============================] - 0s 3ms/step - loss: 8.8326 - mae: 2.0825\n",
      "Epoch 24/80\n",
      "26/26 [==============================] - 0s 3ms/step - loss: 8.1156 - mae: 1.9849\n",
      "Epoch 25/80\n",
      "26/26 [==============================] - 0s 3ms/step - loss: 7.6889 - mae: 1.9783\n",
      "Epoch 26/80\n",
      "26/26 [==============================] - 0s 3ms/step - loss: 8.1402 - mae: 2.0593\n",
      "Epoch 27/80\n",
      "26/26 [==============================] - 0s 2ms/step - loss: 8.3671 - mae: 2.0213\n",
      "Epoch 28/80\n",
      "26/26 [==============================] - 0s 3ms/step - loss: 7.5104 - mae: 1.9227\n",
      "Epoch 29/80\n",
      "26/26 [==============================] - 0s 3ms/step - loss: 7.6882 - mae: 1.9119\n",
      "Epoch 30/80\n",
      "26/26 [==============================] - 0s 3ms/step - loss: 7.2024 - mae: 1.9070\n",
      "Epoch 31/80\n",
      "26/26 [==============================] - 0s 3ms/step - loss: 7.1694 - mae: 1.8725\n",
      "Epoch 32/80\n",
      "26/26 [==============================] - 0s 2ms/step - loss: 6.9445 - mae: 1.8777\n",
      "Epoch 33/80\n",
      "26/26 [==============================] - 0s 3ms/step - loss: 7.2540 - mae: 1.8970\n",
      "Epoch 34/80\n",
      "26/26 [==============================] - 0s 3ms/step - loss: 6.9062 - mae: 1.8358\n",
      "Epoch 35/80\n",
      "26/26 [==============================] - 0s 3ms/step - loss: 6.6573 - mae: 1.8473\n",
      "Epoch 36/80\n",
      "26/26 [==============================] - 0s 3ms/step - loss: 6.7634 - mae: 1.8995\n",
      "Epoch 37/80\n",
      "26/26 [==============================] - 0s 3ms/step - loss: 6.9328 - mae: 1.8524\n",
      "Epoch 38/80\n",
      "26/26 [==============================] - 0s 3ms/step - loss: 6.9956 - mae: 1.9294\n",
      "Epoch 39/80\n",
      "26/26 [==============================] - 0s 2ms/step - loss: 6.7439 - mae: 1.8140\n",
      "Epoch 40/80\n",
      "26/26 [==============================] - 0s 3ms/step - loss: 6.5212 - mae: 1.7977\n",
      "Epoch 41/80\n",
      "26/26 [==============================] - 0s 3ms/step - loss: 6.3271 - mae: 1.8181\n",
      "Epoch 42/80\n",
      "26/26 [==============================] - 0s 2ms/step - loss: 6.3584 - mae: 1.7621\n",
      "Epoch 43/80\n",
      "26/26 [==============================] - 0s 2ms/step - loss: 6.0852 - mae: 1.7642\n",
      "Epoch 44/80\n",
      "26/26 [==============================] - 0s 3ms/step - loss: 6.2275 - mae: 1.7484\n",
      "Epoch 45/80\n",
      "26/26 [==============================] - 0s 3ms/step - loss: 6.4178 - mae: 1.7972\n",
      "Epoch 46/80\n",
      "26/26 [==============================] - 0s 3ms/step - loss: 5.7948 - mae: 1.7196\n",
      "Epoch 47/80\n",
      "26/26 [==============================] - 0s 3ms/step - loss: 5.9449 - mae: 1.7343\n",
      "Epoch 48/80\n",
      "26/26 [==============================] - 0s 2ms/step - loss: 5.3273 - mae: 1.6281\n",
      "Epoch 49/80\n",
      "26/26 [==============================] - 0s 2ms/step - loss: 6.2427 - mae: 1.7861\n",
      "Epoch 50/80\n",
      "26/26 [==============================] - 0s 2ms/step - loss: 5.7242 - mae: 1.7146\n",
      "Epoch 51/80\n",
      "26/26 [==============================] - 0s 3ms/step - loss: 5.5954 - mae: 1.7233\n",
      "Epoch 52/80\n",
      "26/26 [==============================] - 0s 3ms/step - loss: 5.0565 - mae: 1.6005\n",
      "Epoch 53/80\n",
      "26/26 [==============================] - 0s 2ms/step - loss: 5.6270 - mae: 1.7077\n",
      "Epoch 54/80\n",
      "26/26 [==============================] - 0s 3ms/step - loss: 5.5607 - mae: 1.6735\n",
      "Epoch 55/80\n",
      "26/26 [==============================] - 0s 3ms/step - loss: 5.6179 - mae: 1.7391\n",
      "Epoch 56/80\n",
      "26/26 [==============================] - 0s 3ms/step - loss: 5.3499 - mae: 1.6833\n",
      "Epoch 57/80\n",
      "26/26 [==============================] - 0s 3ms/step - loss: 5.1580 - mae: 1.6560\n",
      "Epoch 58/80\n",
      "26/26 [==============================] - 0s 2ms/step - loss: 4.9674 - mae: 1.6320\n",
      "Epoch 59/80\n",
      "26/26 [==============================] - 0s 3ms/step - loss: 5.4253 - mae: 1.6503\n",
      "Epoch 60/80\n",
      "26/26 [==============================] - 0s 3ms/step - loss: 5.0699 - mae: 1.5741\n",
      "Epoch 61/80\n",
      "26/26 [==============================] - 0s 2ms/step - loss: 5.2867 - mae: 1.6679\n",
      "Epoch 62/80\n",
      "26/26 [==============================] - 0s 3ms/step - loss: 5.0205 - mae: 1.5978\n",
      "Epoch 63/80\n",
      "26/26 [==============================] - 0s 2ms/step - loss: 5.2061 - mae: 1.6573\n",
      "Epoch 64/80\n",
      "26/26 [==============================] - 0s 2ms/step - loss: 5.2782 - mae: 1.6740\n",
      "Epoch 65/80\n",
      "26/26 [==============================] - 0s 2ms/step - loss: 5.0273 - mae: 1.6152\n",
      "Epoch 66/80\n",
      "26/26 [==============================] - 0s 2ms/step - loss: 4.9399 - mae: 1.5637\n",
      "Epoch 67/80\n",
      "26/26 [==============================] - 0s 2ms/step - loss: 4.7321 - mae: 1.5810\n",
      "Epoch 68/80\n",
      "26/26 [==============================] - 0s 3ms/step - loss: 5.0164 - mae: 1.6467\n",
      "Epoch 69/80\n",
      "26/26 [==============================] - 0s 2ms/step - loss: 4.5968 - mae: 1.5368\n",
      "Epoch 70/80\n",
      "26/26 [==============================] - 0s 2ms/step - loss: 4.4121 - mae: 1.5391\n",
      "Epoch 71/80\n",
      "26/26 [==============================] - 0s 2ms/step - loss: 4.3971 - mae: 1.5620\n",
      "Epoch 72/80\n",
      "26/26 [==============================] - 0s 2ms/step - loss: 4.6338 - mae: 1.5686\n",
      "Epoch 73/80\n",
      "26/26 [==============================] - 0s 3ms/step - loss: 4.4604 - mae: 1.5217\n",
      "Epoch 74/80\n",
      "26/26 [==============================] - 0s 3ms/step - loss: 4.4593 - mae: 1.5606\n",
      "Epoch 75/80\n",
      "26/26 [==============================] - 0s 3ms/step - loss: 4.7070 - mae: 1.5778\n",
      "Epoch 76/80\n",
      "26/26 [==============================] - 0s 3ms/step - loss: 4.4109 - mae: 1.5401\n",
      "Epoch 77/80\n",
      "26/26 [==============================] - 0s 3ms/step - loss: 4.7324 - mae: 1.5940\n",
      "Epoch 78/80\n",
      "26/26 [==============================] - 0s 2ms/step - loss: 4.1222 - mae: 1.5073\n",
      "Epoch 79/80\n",
      "26/26 [==============================] - 0s 3ms/step - loss: 4.2211 - mae: 1.4992\n",
      "Epoch 80/80\n",
      "26/26 [==============================] - 0s 3ms/step - loss: 4.0648 - mae: 1.4567\n"
     ]
    },
    {
     "data": {
      "text/plain": [
       "<keras.callbacks.History at 0x7f4fdefa5a30>"
      ]
     },
     "execution_count": 11,
     "metadata": {},
     "output_type": "execute_result"
    }
   ],
   "source": [
    "model.fit(train_data, train_labels, batch_size=16, epochs=80)"
   ]
  },
  {
   "cell_type": "code",
   "execution_count": 12,
   "id": "c5d84894",
   "metadata": {},
   "outputs": [
    {
     "name": "stdout",
     "output_type": "stream",
     "text": [
      "4/4 [==============================] - 0s 2ms/step - loss: 15.2926 - mae: 2.6593\n"
     ]
    }
   ],
   "source": [
    "test_mse, test_mae = model.evaluate(test_data, test_labels)"
   ]
  },
  {
   "cell_type": "code",
   "execution_count": null,
   "id": "98b2503b",
   "metadata": {},
   "outputs": [],
   "source": []
  }
 ],
 "metadata": {
  "kernelspec": {
   "display_name": "Python 3 (ipykernel)",
   "language": "python",
   "name": "python3"
  },
  "language_info": {
   "codemirror_mode": {
    "name": "ipython",
    "version": 3
   },
   "file_extension": ".py",
   "mimetype": "text/x-python",
   "name": "python",
   "nbconvert_exporter": "python",
   "pygments_lexer": "ipython3",
   "version": "3.8.10"
  }
 },
 "nbformat": 4,
 "nbformat_minor": 5
}
